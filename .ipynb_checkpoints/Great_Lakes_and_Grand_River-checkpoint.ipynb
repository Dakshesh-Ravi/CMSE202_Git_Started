{
 "cells": [
  {
   "cell_type": "markdown",
   "metadata": {},
   "source": [
    "# Great Lakes and the Grand River\n",
    "\\* Based off a CMSE 201 assignment\n",
    "\n",
    "Were going to use Pandas or Numpy and Matplotlib to interact with some data that pertains to the water levels of the [Great Lakes](https://en.wikipedia.org/wiki/Great_Lakes) and the [discharge](https://en.wikipedia.org/wiki/Discharge_(hydrology)) of the [Grand River](https://en.wikipedia.org/wiki/Grand_River_(Michigan)).\n",
    "![picture](https://upload.wikimedia.org/wikipedia/commons/5/57/Great_Lakes_from_space_crop_labeled.jpg)"
   ]
  },
  {
   "cell_type": "markdown",
   "metadata": {},
   "source": [
    "---\n",
    "# Great Lakes"
   ]
  },
  {
   "cell_type": "code",
<<<<<<< HEAD
   "execution_count": null,
=======
   "execution_count": 1,
>>>>>>> refs/remotes/origin/main
   "metadata": {},
   "outputs": [],
   "source": [
    "# Bring in NumPy, Pandas, and Matplotlib, should be all you need to plot. \n",
    "# IF you need more make sure to notify your group.\n",
    "import numpy as np\n",
    "import pandas as pd\n",
    "import matplotlib.pyplot as plt\n",
    "%matplotlib inline"
   ]
  },
  {
   "cell_type": "markdown",
   "metadata": {},
   "source": [
    "To use this notebook for your in-class assignment, you will need these files, which are available as part of the GitHub repository. They live in the \"data\" folder:\n",
    "* `mhu.csv` -- [Lake Michigan](https://en.wikipedia.org/wiki/Lake_Michigan) and [Lake Huron](https://en.wikipedia.org/wiki/Lake_Huron)\n",
    "* `sup.csv` -- [Lake Superior](https://en.wikipedia.org/wiki/Lake_Superior)\n",
    "* `eri.csv` -- [Lake Erie](https://en.wikipedia.org/wiki/Lake_Erie)\n",
    "* `ont.csv` -- [Lake Ontario](https://en.wikipedia.org/wiki/Lake_Ontario)\n",
    "\n",
    "This notebook **might look very familiar!** It is based off a CMSE 201 assignment that focused on exploring some [Great Lakes](https://en.wikipedia.org/wiki/Great_Lakes) water level data. We will be doing similar calculations with the same data to get some practice with version contol while your remind yourself of your Python skills. Make sure you **try to complete this activity without looking at the old notebook**. The old notebook came up in 201 right after you first learned how to use Matplotlib and as you began to learn about NumPy. This is good moment to reflect on how far you have come.\n",
    "\n",
    "**As instructed in the in-class activity notebook for today, you are only expected to complete one \"PART\" below. Do not worry if your group is not big enough to finish all parts below, but if you have extra time, you're welcome to do so.**"
   ]
  },
  {
   "cell_type": "markdown",
   "metadata": {},
   "source": [
    "# PART 1\n",
    "\n",
    "**Using the Michigan/Huron Dataset, plot the Water Level, the second column, as a function of time [years]**"
   ]
  },
  {
   "cell_type": "code",
   "execution_count": null,
   "metadata": {},
   "outputs": [],
   "source": [
    "# Insert Code Here"
   ]
  },
  {
   "cell_type": "markdown",
   "metadata": {},
   "source": [
    "# PART 2\n",
    "\n",
    "**Using the Superior Dataset, plot the Water Level, the second column, as a function of time [years]**"
   ]
  },
  {
   "cell_type": "code",
   "execution_count": null,
   "metadata": {},
   "outputs": [],
   "source": [
    "# Insert Code Here"
   ]
  },
  {
   "cell_type": "markdown",
   "metadata": {},
   "source": [
    "# PART 3\n",
    "\n",
    "**Using the Erie Dataset, plot the Water Level, the second column, as a function of time [years]**"
   ]
  },
  {
   "cell_type": "code",
   "execution_count": null,
   "metadata": {},
   "outputs": [],
   "source": [
<<<<<<< HEAD
    "# Insert Code Here\n",
    "erie = pd.read_csv('data/eri.csv')\n",
    "erie_water_level = erie.iloc[:,1]\n",
    "erie_time = erie.iloc[:,0]\n",
    "plt.plot(erie_time, erie_water_level)\n",
    "plt.title('Lake Erie water level vs time')\n",
    "plt.xlabel('year')\n",
    "plt.ylabel('water level')\n",
    "plt.show();"
=======
    "# Insert Code Here"
>>>>>>> refs/remotes/origin/main
   ]
  },
  {
   "cell_type": "markdown",
   "metadata": {},
   "source": [
    "# PART 4\n",
    "\n",
    "**Using the Ontario Dataset, plot the Water Level, the second column, as a function of time [years]**"
   ]
  },
  {
   "cell_type": "code",
   "execution_count": null,
   "metadata": {},
   "outputs": [],
   "source": [
    "# Insert Code Here"
   ]
  },
  {
   "cell_type": "markdown",
   "metadata": {},
   "source": [
    "# PART 5\n",
    "\n",
    "**Using the Michigan/Huron and Superior Datasets, plot the Michigan/Hurion Water Level vs Superior Water Level to see if there is any correlation between the water levels.**"
   ]
  },
  {
   "cell_type": "code",
<<<<<<< HEAD
   "execution_count": null,
   "metadata": {},
   "outputs": [],
   "source": [
    "# Insert Code Here"
=======
   "execution_count": 9,
   "metadata": {},
   "outputs": [
    {
     "data": {
      "text/plain": [
       "<matplotlib.collections.PathCollection at 0x7fcb8e2e49d0>"
      ]
     },
     "execution_count": 9,
     "metadata": {},
     "output_type": "execute_result"
    },
    {
     "data": {
      "image/png": "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",
      "text/plain": [
       "<Figure size 640x480 with 1 Axes>"
      ]
     },
     "metadata": {},
     "output_type": "display_data"
    }
   ],
   "source": [
    "# Insert Code Here\n",
    "mhu = pd.read_csv(\"data/mhu.csv\")\n",
    "sup = pd.read_csv(\"data/sup.csv\")\n",
    "x = mhu[\"AnnAvg\"]\n",
    "y = sup[\"AnnAvg\"]\n",
    "plt.scatter(x, y)"
>>>>>>> refs/remotes/origin/main
   ]
  },
  {
   "cell_type": "markdown",
   "metadata": {},
   "source": [
    "# PART 6\n",
    "\n",
    "**Using the Michigan/Hurion and Erie Datasets, plot the Michigan/Huron Water Level vs Erie Water Level to see if there is any correlation between the water levels.**"
   ]
  },
  {
   "cell_type": "code",
   "execution_count": null,
   "metadata": {},
   "outputs": [],
   "source": [
    "# Insert Code Here"
   ]
  },
  {
   "cell_type": "markdown",
   "metadata": {},
   "source": [
    "# PART 7\n",
    "\n",
    "**Using the Superior and Ontario Datasets, plot the Superior Water Level vs Ontario Water Level to see if there is any correlation between the water levels.**"
   ]
  },
  {
   "cell_type": "code",
   "execution_count": null,
   "metadata": {},
   "outputs": [],
   "source": [
    "# Insert Code Here"
   ]
  },
  {
   "cell_type": "markdown",
   "metadata": {},
   "source": [
    "# PART 8\n",
    "\n",
    "**Using the Erie and Ontario Datasets, plot the Erie Water Level vs Ontario Water Level to see if there is any correlation between the water levels.**"
   ]
  },
  {
   "cell_type": "code",
   "execution_count": null,
   "metadata": {},
   "outputs": [],
   "source": [
    "# Insert Code Here"
   ]
  },
  {
   "cell_type": "markdown",
   "metadata": {},
   "source": [
    "---\n",
    "### &#128721; STOP \n",
    "The next section is for the **Exploring the version history and moving between versions** section of today's in-class activity.\n",
    "\n",
    "---"
   ]
  },
  {
   "cell_type": "markdown",
   "metadata": {},
   "source": [
    "# Grand River\n",
    "<img src=\"https://upload.wikimedia.org/wikipedia/commons/thumb/7/75/Grand_River_%28Michigan%29_map.svg/800px-Grand_River_%28Michigan%29_map.svg.png\">"
   ]
  },
  {
   "cell_type": "markdown",
   "metadata": {},
   "source": [
    "The [Grand River](https://en.wikipedia.org/wiki/Grand_River_(Michigan)) is an important landmark in [Southern Michigan](https://en.wikipedia.org/wiki/Southern_Michigan). It is the longest river in Michigan at 252 miles (406 km) and it runs through many of the noteable cities in [Southern Michigan](https://en.wikipedia.org/wiki/Southern_Michigan), including [Lansing](https://en.wikipedia.org/wiki/Lansing,_Michigan). \"Grand River\" is also the name of a major road way, also known as [U.S. Route 16](https://en.wikipedia.org/wiki/U.S._Route_16_in_Michigan), that stretches from the rivers end point at [Lake Michigan](https://en.wikipedia.org/wiki/Lake_Michigan) in [Grand Haven](https://en.wikipedia.org/wiki/Grand_Haven,_Michigan) to [Detroit](https://en.wikipedia.org/wiki/Detroit). The river is one of the three major [tributaries](https://en.wikipedia.org/wiki/Tributary) of Lake Michigan."
   ]
  },
  {
   "cell_type": "markdown",
   "metadata": {},
   "source": [
    "Using data on the [discharge](https://en.wikipedia.org/wiki/Discharge_(hydrology)) of the [Grand River](https://en.wikipedia.org/wiki/Grand_River_(Michigan)) and water level of [Lake Michigan](https://en.wikipedia.org/wiki/Lake_Michigan)/[Lake Huron](https://en.wikipedia.org/wiki/Lake_Huron), we will see if there is any correlation between the two."
   ]
  },
  {
   "cell_type": "code",
   "execution_count": null,
   "metadata": {},
   "outputs": [],
   "source": [
    "#Importing Seaborn for regplot\n",
    "import seaborn as sns\n",
    "\n",
    "#loading in Data for Grand River from riverdata.com\n",
    "import urllib.request\n",
    "print('Beginning file download with urllib2...')\n",
    "url = 'http://riverdata.com/grand.csv'\n",
    "urllib.request.urlretrieve(url, './data/grand.csv')\n",
    "grand = pd.read_csv(\"./data/grand.csv\")\n",
    "\n",
    "#Loading in Data for mhu.csv\n",
    "mhu = pd.read_csv(\"./data/mhu.csv\")\n",
    "mhu = mhu[mhu[\"Michigan-Huron annual averages\"] >= 1935]\n",
    "grand = grand[grand[\"Calendar Year\"] <= 2015]\n",
    "grand = grand[grand[\"Calendar Year\"] >= 1935]\n",
    "\n",
    "# Setting Size of Figures\n",
    "plt.figure(figsize=(7,10))\n",
    "\n",
    "# Plotting Discharge versus time\n",
    "plt.subplot(2,1,1)\n",
    "plt.scatter(grand[\"Calendar Year\"],grand[\"Discharge (ft^3/s)\"])\n",
    "plt.xlabel(\"Calendar Years\")\n",
    "plt.ylabel(\"Discharge (ft^3/s)\")\n",
    "plt.title(\"Grand River Discharge over Time\")\n",
    "\n",
    "#Plotting Grand River Discharge versus Lake Michigan/Huron Water Level (Normalized)\n",
    "ax2 = plt.subplot(2,1,2)\n",
    "sns.regplot(grand[\"Discharge (ft^3/s)\"],mhu[\"AnnAvg\"],ax=ax2)\n",
    "plt.xlabel(\"Grand River Discharge (ft^3/s)\")\n",
    "plt.ylabel(\"Lake Michigan/Huron Water Level\")\n",
    "plt.title(\"Grand River Discharge vs Lake Michigan/Huron Water Level\")\n",
    "plt.tight_layout()"
   ]
  },
  {
   "cell_type": "markdown",
   "metadata": {},
   "source": [
    "&#169; Copyright 2020,  Michigan State University Board of Trustees."
   ]
  }
 ],
 "metadata": {
  "kernelspec": {
   "display_name": "Python 3.11 (default)",
   "language": "python",
   "name": "python3"
  },
  "language_info": {
   "codemirror_mode": {
    "name": "ipython",
    "version": 3
   },
   "file_extension": ".py",
   "mimetype": "text/x-python",
   "name": "python",
   "nbconvert_exporter": "python",
   "pygments_lexer": "ipython3",
   "version": "3.11.9"
  }
 },
 "nbformat": 4,
 "nbformat_minor": 4
}
